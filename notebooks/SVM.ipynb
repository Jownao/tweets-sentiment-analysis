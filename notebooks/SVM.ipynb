{
  "nbformat": 4,
  "nbformat_minor": 0,
  "metadata": {
    "colab": {
      "name": "SVM.ipynb",
      "provenance": []
    },
    "kernelspec": {
      "name": "python3",
      "display_name": "Python 3"
    },
    "language_info": {
      "name": "python"
    }
  },
  "cells": [
    {
      "cell_type": "code",
      "metadata": {
        "id": "lKnYGzeRte1u"
      },
      "source": [
        "import math\n",
        "import os\n",
        "import pickle\n",
        "import re\n",
        "\n",
        "import matplotlib.pyplot as plt\n",
        "import nltk\n",
        "import numpy as np\n",
        "import pandas as pd\n",
        "import seaborn as sns\n",
        "from sklearn import metrics\n",
        "from sklearn.feature_extraction.text import TfidfVectorizer\n",
        "from sklearn.metrics import (accuracy_score, classification_report,\n",
        "                             confusion_matrix, precision_recall_fscore_support)\n",
        "from sklearn.model_selection import train_test_split\n",
        "from sklearn import svm\n",
        "from sklearn.metrics import classification_report"
      ],
      "execution_count": null,
      "outputs": []
    },
    {
      "cell_type": "code",
      "metadata": {
        "id": "kpXzBgu0wvHd"
      },
      "source": [
        "import nltk\n",
        "nltk.download('stopwords')\n",
        "  "
      ],
      "execution_count": null,
      "outputs": []
    },
    {
      "cell_type": "code",
      "metadata": {
        "id": "GKwUikp-vWxv"
      },
      "source": [
        "from google.colab import drive\n",
        "drive.mount('/content/drive')"
      ],
      "execution_count": null,
      "outputs": []
    },
    {
      "cell_type": "code",
      "metadata": {
        "id": "D8N-MPjfvium"
      },
      "source": [
        "default_dir = \"/data/\"\n",
        "data_tcc_pos_neg = default_dir+'labeled_data/dataset_label_pos_neg.csv'\n",
        "data_neg_emotions = default_dir+'labeled_data/plutchik_other_emotions.csv'\n"
      ],
      "execution_count": null,
      "outputs": []
    },
    {
      "cell_type": "code",
      "metadata": {
        "colab": {
          "base_uri": "https://localhost:8080/",
          "height": 311
        },
        "id": "JrTMGudTvmLX",
        "outputId": "e8323bc7-78e9-417e-d539-d23a090c557c"
      },
      "source": [
        "data = pd.read_csv(data_tcc_pos_neg)\n",
        "data['type'] = 'with_theme-' + data['sentiment']\n",
        "data = data.dropna()\n",
        "data.head()"
      ],
      "execution_count": null,
      "outputs": [
        {
          "output_type": "execute_result",
          "data": {
            "text/html": [
              "<div>\n",
              "<style scoped>\n",
              "    .dataframe tbody tr th:only-of-type {\n",
              "        vertical-align: middle;\n",
              "    }\n",
              "\n",
              "    .dataframe tbody tr th {\n",
              "        vertical-align: top;\n",
              "    }\n",
              "\n",
              "    .dataframe thead th {\n",
              "        text-align: right;\n",
              "    }\n",
              "</style>\n",
              "<table border=\"1\" class=\"dataframe\">\n",
              "  <thead>\n",
              "    <tr style=\"text-align: right;\">\n",
              "      <th></th>\n",
              "      <th>date</th>\n",
              "      <th>tweet_text</th>\n",
              "      <th>sentiment</th>\n",
              "      <th>clean_text</th>\n",
              "      <th>type</th>\n",
              "    </tr>\n",
              "  </thead>\n",
              "  <tbody>\n",
              "    <tr>\n",
              "      <th>0</th>\n",
              "      <td>2021-02-27 22:22:07+00:00</td>\n",
              "      <td>Os nossos vizinhos com medidas restritivas:\\n\\...</td>\n",
              "      <td>Negativo</td>\n",
              "      <td>vizinhos medidas restritivas flávio dino</td>\n",
              "      <td>with_theme-Negativo</td>\n",
              "    </tr>\n",
              "    <tr>\n",
              "      <th>1</th>\n",
              "      <td>2021-02-27 22:21:02+00:00</td>\n",
              "      <td>@Su_eline Enquanto as pessoas não acordarem pa...</td>\n",
              "      <td>Negativo</td>\n",
              "      <td>enquanto pessoas acordar gravidade situação ac...</td>\n",
              "      <td>with_theme-Negativo</td>\n",
              "    </tr>\n",
              "    <tr>\n",
              "      <th>2</th>\n",
              "      <td>2021-02-27 22:04:55+00:00</td>\n",
              "      <td>2de2\\nE demorou muito para adotar medidas REST...</td>\n",
              "      <td>Negativo</td>\n",
              "      <td>demorar adotar medidas restritivas severas fic...</td>\n",
              "      <td>with_theme-Negativo</td>\n",
              "    </tr>\n",
              "    <tr>\n",
              "      <th>3</th>\n",
              "      <td>2021-02-27 22:00:52+00:00</td>\n",
              "      <td>@JanainaDoBrasil 🤣🤣🤣😂😅\\nQue lógica bisonha!\\n\"...</td>\n",
              "      <td>Positivo</td>\n",
              "      <td>lógica bisonha vamos esperar todas vagas ser o...</td>\n",
              "      <td>with_theme-Positivo</td>\n",
              "    </tr>\n",
              "    <tr>\n",
              "      <th>4</th>\n",
              "      <td>2021-02-27 20:13:55+00:00</td>\n",
              "      <td>😷👏👏👏Setor produtivo apoia medidas restritivas ...</td>\n",
              "      <td>Negativo</td>\n",
              "      <td>setor produtivo apoiar medidas restritivas des...</td>\n",
              "      <td>with_theme-Negativo</td>\n",
              "    </tr>\n",
              "  </tbody>\n",
              "</table>\n",
              "</div>"
            ],
            "text/plain": [
              "                        date  ...                 type\n",
              "0  2021-02-27 22:22:07+00:00  ...  with_theme-Negativo\n",
              "1  2021-02-27 22:21:02+00:00  ...  with_theme-Negativo\n",
              "2  2021-02-27 22:04:55+00:00  ...  with_theme-Negativo\n",
              "3  2021-02-27 22:00:52+00:00  ...  with_theme-Positivo\n",
              "4  2021-02-27 20:13:55+00:00  ...  with_theme-Negativo\n",
              "\n",
              "[5 rows x 5 columns]"
            ]
          },
          "metadata": {
            "tags": []
          },
          "execution_count": 8
        }
      ]
    },
    {
      "cell_type": "code",
      "metadata": {
        "id": "3kmoaoZctfMs"
      },
      "source": [
        "stemmer = nltk.stem.snowball.PortugueseStemmer()\n",
        "analyzer = TfidfVectorizer().build_analyzer()"
      ],
      "execution_count": null,
      "outputs": []
    },
    {
      "cell_type": "code",
      "metadata": {
        "id": "qybgPvSpthRh"
      },
      "source": [
        "def stemmed_words(doc):\n",
        "    return (stemmer.stem(w) for w in analyzer(doc) if w[0]!='@')"
      ],
      "execution_count": null,
      "outputs": []
    },
    {
      "cell_type": "code",
      "metadata": {
        "id": "N2Ry9okJuk2R"
      },
      "source": [
        "def create_splits(data):\n",
        "    test_validation_size = int(0.20*data.shape[0])\n",
        "    train, test = train_test_split(data, test_size=test_validation_size, random_state=42, stratify=data['type'])\n",
        "    return train, test\n",
        "\n",
        "  \n",
        "train, test = create_splits(data)\n",
        "print('Training samples:  ', train.shape[0])\n",
        "print('Test samples:      ', test.shape[0])\n",
        "\n"
      ],
      "execution_count": null,
      "outputs": []
    },
    {
      "cell_type": "code",
      "metadata": {
        "id": "uzduPUmrtiww"
      },
      "source": [
        "vectorizer = TfidfVectorizer(\n",
        "    stop_words=nltk.corpus.stopwords.words('portuguese'), \n",
        "    analyzer=stemmed_words,\n",
        "    min_df=0.0001, \n",
        "    max_features=100000, \n",
        "    max_df=0.8)"
      ],
      "execution_count": null,
      "outputs": []
    },
    {
      "cell_type": "code",
      "metadata": {
        "id": "Pe3L1wZUtkEs"
      },
      "source": [
        "X_train = vectorizer.fit_transform(train['clean_text'].values.astype('U'))\n",
        "X_test = vectorizer.transform(test['clean_text'].values.astype('U'))"
      ],
      "execution_count": null,
      "outputs": []
    },
    {
      "cell_type": "code",
      "metadata": {
        "id": "d5Zp3qq3tlie"
      },
      "source": [
        "labels = {\n",
        "    'Positivo' : 0,\n",
        "    'Negativo' : 1,\n",
        "}\n",
        "\n",
        "# encoding = {\n",
        "#     'tristeza': 0,\n",
        "#     'medo': 1,\n",
        "#     'raiva': 2,\n",
        "#     'desprezo' : 3,\n",
        "# }\n",
        "\n",
        "y_train = train['sentiment'].map(labels).values\n",
        "y_test = test['sentiment'].map(labels).values"
      ],
      "execution_count": null,
      "outputs": []
    },
    {
      "cell_type": "code",
      "metadata": {
        "id": "VnU5T4G-tqQN",
        "colab": {
          "base_uri": "https://localhost:8080/"
        },
        "outputId": "0c6c8786-a10e-41c7-8251-b2831a2737ed"
      },
      "source": [
        "# Perform classification with SVM, kernel=linear\n",
        "classifier_linear = svm.SVC(kernel='linear')\n",
        "classifier_linear.fit(X_train, y_train)"
      ],
      "execution_count": null,
      "outputs": [
        {
          "output_type": "execute_result",
          "data": {
            "text/plain": [
              "SVC(C=1.0, break_ties=False, cache_size=200, class_weight=None, coef0=0.0,\n",
              "    decision_function_shape='ovr', degree=3, gamma='scale', kernel='linear',\n",
              "    max_iter=-1, probability=False, random_state=None, shrinking=True,\n",
              "    tol=0.001, verbose=False)"
            ]
          },
          "metadata": {
            "tags": []
          },
          "execution_count": 15
        }
      ]
    },
    {
      "cell_type": "code",
      "metadata": {
        "id": "mD3wvhEc08wt"
      },
      "source": [
        "prediction_linear = classifier_linear.predict(X_test)"
      ],
      "execution_count": null,
      "outputs": []
    },
    {
      "cell_type": "code",
      "metadata": {
        "id": "ipjM8o0itue_"
      },
      "source": [
        "print(classification_report(y_test, prediction_linear))\n"
      ],
      "execution_count": null,
      "outputs": []
    },
    {
      "cell_type": "code",
      "metadata": {
        "id": "4dPflo_IuQTG"
      },
      "source": [
        "ax = sns.heatmap(confusion_matrix(y_test, prediction_linear), cmap='Greens_r', annot=True, fmt='d')\n",
        "_ = ax.set(xlabel='Previsto', ylabel='Correto', title='SVM')"
      ],
      "execution_count": null,
      "outputs": []
    },
    {
      "cell_type": "code",
      "metadata": {
        "id": "x_7G7khTt8E5"
      },
      "source": [
        "#Calculando a acurácia\n",
        "acc = accuracy_score(prediction_linear, y_test)\n",
        "precision, recall, fscore = precision_recall_fscore_support(prediction_linear, y_test, average='micro')\n",
        "print(f'Acurácia: {acc}')\n",
        "print(f'\\nPrecisao: {precision}, Recall: {recall} FScore: {fscore}')"
      ],
      "execution_count": null,
      "outputs": []
    }
  ]
}