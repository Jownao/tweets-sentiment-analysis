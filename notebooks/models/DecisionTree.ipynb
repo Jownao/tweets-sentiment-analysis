{
  "nbformat": 4,
  "nbformat_minor": 0,
  "metadata": {
    "colab": {
      "name": "DecisionTree.ipynb",
      "provenance": []
    },
    "kernelspec": {
      "name": "python3",
      "display_name": "Python 3"
    },
    "language_info": {
      "name": "python"
    }
  },
  "cells": [
    {
      "cell_type": "code",
      "metadata": {
        "id": "Auzn5WIKpooI"
      },
      "source": [
        "!pip install spacy==3.1.0\n",
        "!python -m spacy download pt_core_news_lg"
      ],
      "execution_count": null,
      "outputs": []
    },
    {
      "cell_type": "code",
      "metadata": {
        "id": "lKnYGzeRte1u"
      },
      "source": [
        "import nltk\n",
        "import numpy as np\n",
        "import pandas as pd\n",
        "import seaborn as sns\n",
        "from sklearn.feature_extraction.text import TfidfVectorizer\n",
        "from sklearn.metrics import (accuracy_score, classification_report,\n",
        "                             confusion_matrix, precision_recall_fscore_support)\n",
        "from sklearn.model_selection import train_test_split\n",
        "from sklearn.tree import DecisionTreeClassifier"
      ],
      "execution_count": null,
      "outputs": []
    },
    {
      "cell_type": "code",
      "metadata": {
        "id": "kpXzBgu0wvHd"
      },
      "source": [
        "import nltk\n",
        "nltk.download('stopwords')\n",
        "  "
      ],
      "execution_count": null,
      "outputs": []
    },
    {
      "cell_type": "code",
      "metadata": {
        "id": "i_CIUSjGpnwC"
      },
      "source": [
        "import spacy\n",
        "\n",
        "spc = spacy.load(\"pt_core_news_lg\")"
      ],
      "execution_count": null,
      "outputs": []
    },
    {
      "cell_type": "code",
      "metadata": {
        "colab": {
          "base_uri": "https://localhost:8080/"
        },
        "id": "GKwUikp-vWxv",
        "outputId": "7b6ba43e-a1e0-4e0c-a967-cf7b03dd6ece"
      },
      "source": [
        "from google.colab import drive\n",
        "drive.mount('/content/drive')"
      ],
      "execution_count": null,
      "outputs": [
        {
          "output_type": "stream",
          "text": [
            "Drive already mounted at /content/drive; to attempt to forcibly remount, call drive.mount(\"/content/drive\", force_remount=True).\n"
          ],
          "name": "stdout"
        }
      ]
    },
    {
      "cell_type": "code",
      "metadata": {
        "id": "D8N-MPjfvium"
      },
      "source": [
        "default_dir = \"/data/\"\n",
        "data_tcc_pos_neg = default_dir+'labeled_data/dataset_label_pos_neg.csv'\n",
        "data_neg_emotions = default_dir+'labeled_data/dataset_neg_emotions.csv'\n"
      ],
      "execution_count": null,
      "outputs": []
    },
    {
      "cell_type": "code",
      "metadata": {
        "id": "JrTMGudTvmLX"
      },
      "source": [
        "data = pd.read_csv(data_tcc_pos_neg)\n",
        "data['type'] = 'with_theme-' + data['sentiment']\n",
        "data = data.dropna()\n",
        "data.head()"
      ],
      "execution_count": null,
      "outputs": []
    },
    {
      "cell_type": "code",
      "metadata": {
        "id": "qybgPvSpthRh"
      },
      "source": [
        "def lemma_words(doc):\n",
        "  spc_letras = spc(str(doc))\n",
        "  return (token.lemma_ if token.pos_ == 'VERB' else str(token) for token in spc_letras)"
      ],
      "execution_count": null,
      "outputs": []
    },
    {
      "cell_type": "code",
      "metadata": {
        "colab": {
          "base_uri": "https://localhost:8080/"
        },
        "id": "N2Ry9okJuk2R",
        "outputId": "3e1ea5df-a7ce-4f28-f1b1-63eadf29a52f"
      },
      "source": [
        "def create_splits(data):\n",
        "    test_validation_size = int(0.20*data.shape[0])\n",
        "    train, test = train_test_split(data, test_size=test_validation_size, random_state=42, stratify=data['type'])\n",
        "    return train, test\n",
        "\n",
        "  \n",
        "train, test = create_splits(data)\n",
        "print('Training samples:  ', train.shape[0])\n",
        "print('Test samples:      ', test.shape[0])\n",
        "\n"
      ],
      "execution_count": null,
      "outputs": [
        {
          "output_type": "stream",
          "text": [
            "Training samples:   61788\n",
            "Test samples:       15447\n"
          ],
          "name": "stdout"
        }
      ]
    },
    {
      "cell_type": "code",
      "metadata": {
        "id": "uzduPUmrtiww"
      },
      "source": [
        "vectorizer = TfidfVectorizer(\n",
        "    stop_words=nltk.corpus.stopwords.words('portuguese'), \n",
        "    analyzer=lemma_words,\n",
        "    min_df=0.0001, \n",
        "    max_df=0.8,\n",
        "    use_idf=True,\n",
        "    smooth_idf=True\n",
        ")"
      ],
      "execution_count": null,
      "outputs": []
    },
    {
      "cell_type": "code",
      "metadata": {
        "id": "Pe3L1wZUtkEs"
      },
      "source": [
        "X_train = vectorizer.fit_transform(train['clean_text'].values.astype('U'))\n",
        "X_test = vectorizer.transform(test['clean_text'].values.astype('U'))"
      ],
      "execution_count": null,
      "outputs": []
    },
    {
      "cell_type": "code",
      "metadata": {
        "id": "d5Zp3qq3tlie"
      },
      "source": [
        "labels = {\n",
        "    'Positivo' : 0,\n",
        "    'Negativo' : 1,\n",
        "}\n",
        "\n",
        "# labels = {\n",
        "#     'tristeza': 0,\n",
        "#     'medo': 1,\n",
        "#     'raiva': 2,\n",
        "#     'desprezo' : 3,\n",
        "# }\n",
        "\n",
        "y_train = train['sentiment'].map(labels).values\n",
        "y_test = test['sentiment'].map(labels).values"
      ],
      "execution_count": null,
      "outputs": []
    },
    {
      "cell_type": "code",
      "metadata": {
        "id": "VnU5T4G-tqQN"
      },
      "source": [
        "# Create Decision Tree classifer object\n",
        "clf = DecisionTreeClassifier()\n",
        "\n",
        "# Train Decision Tree Classifer\n",
        "clf = clf.fit(X_train,y_train)"
      ],
      "execution_count": null,
      "outputs": []
    },
    {
      "cell_type": "code",
      "metadata": {
        "id": "mD3wvhEc08wt"
      },
      "source": [
        "#Predict the response for test dataset\n",
        "prediction_tree = clf.predict(X_test)"
      ],
      "execution_count": null,
      "outputs": []
    },
    {
      "cell_type": "code",
      "metadata": {
        "id": "ipjM8o0itue_"
      },
      "source": [
        "print(classification_report(y_test, prediction_tree))\n"
      ],
      "execution_count": null,
      "outputs": []
    },
    {
      "cell_type": "code",
      "metadata": {
        "id": "4dPflo_IuQTG"
      },
      "source": [
        "ax = sns.heatmap(confusion_matrix(y_test, prediction_tree), cmap='Greens_r', annot=True, fmt='d')\n",
        "_ = ax.set(xlabel='Previsto', ylabel='Correto', title='Árvore de Decisão.')"
      ],
      "execution_count": null,
      "outputs": []
    },
    {
      "cell_type": "code",
      "metadata": {
        "id": "x_7G7khTt8E5"
      },
      "source": [
        "#Calculando a acurácia\n",
        "acc = accuracy_score(prediction_tree, y_test)\n",
        "precision_recall_fscore = precision_recall_fscore_support(prediction_tree, y_test, average='weighted')\n",
        "print(f'acc: {acc}')\n",
        "print(f'\\nprf: {precision_recall_fscore}')"
      ],
      "execution_count": null,
      "outputs": []
    }
  ]
}