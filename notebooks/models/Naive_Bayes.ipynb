{
  "nbformat": 4,
  "nbformat_minor": 0,
  "metadata": {
    "colab": {
      "name": "Naive Bayes.ipynb",
      "provenance": []
    },
    "kernelspec": {
      "name": "python3",
      "display_name": "Python 3"
    },
    "language_info": {
      "name": "python"
    }
  },
  "cells": [
    {
      "cell_type": "code",
      "metadata": {
        "id": "I0bomFgOlcdj"
      },
      "source": [
        "!pip install spacy==3.1.0\n",
        "!python -m spacy download pt_core_news_lg"
      ],
      "execution_count": null,
      "outputs": []
    },
    {
      "cell_type": "code",
      "metadata": {
        "id": "lKnYGzeRte1u"
      },
      "source": [
        "import matplotlib.pyplot as plt\n",
        "import nltk\n",
        "import numpy as np\n",
        "import pandas as pd\n",
        "import seaborn as sns\n",
        "\n",
        "from sklearn.feature_extraction.text import TfidfVectorizer\n",
        "from sklearn.model_selection import train_test_split\n",
        "from sklearn.naive_bayes import MultinomialNB\n",
        "from sklearn.metrics import (accuracy_score, classification_report,\n",
        "                             confusion_matrix, precision_recall_fscore_support)"
      ],
      "execution_count": 3,
      "outputs": []
    },
    {
      "cell_type": "code",
      "metadata": {
        "id": "kpXzBgu0wvHd"
      },
      "source": [
        "import nltk\n",
        "from nltk.corpus import stopwords\n",
        "from nltk.tokenize import word_tokenize\n",
        "\n",
        "nltk.download('stopwords')\n",
        "nltk.download('punkt')"
      ],
      "execution_count": null,
      "outputs": []
    },
    {
      "cell_type": "code",
      "metadata": {
        "id": "L2Bd-dRTlQMj"
      },
      "source": [
        "import spacy\n",
        "\n",
        "spc = spacy.load(\"pt_core_news_lg\")"
      ],
      "execution_count": 5,
      "outputs": []
    },
    {
      "cell_type": "code",
      "metadata": {
        "id": "GKwUikp-vWxv"
      },
      "source": [
        "from google.colab import drive\n",
        "drive.mount('/content/drive')"
      ],
      "execution_count": null,
      "outputs": []
    },
    {
      "cell_type": "code",
      "metadata": {
        "id": "D8N-MPjfvium"
      },
      "source": [
        "default_dir = \"/data/\"\n",
        "data_tcc_pos_neg = default_dir+'labeled_data/dataset_label_pos_neg.csv'\n",
        "data_neg_emotions = default_dir+'labeled_data/dataset_neg_emotions.csv'\n"
      ],
      "execution_count": 10,
      "outputs": []
    },
    {
      "cell_type": "code",
      "metadata": {
        "id": "JrTMGudTvmLX"
      },
      "source": [
        "data = pd.read_csv(data_tcc_pos_neg)\n",
        "data['type'] = 'with_theme-' + data['sentiment']\n",
        "data[\"cleaned_text\"] = data[[\"clean_text\"]].values.astype(\"U\")\n",
        "data = data.dropna()"
      ],
      "execution_count": 12,
      "outputs": []
    },
    {
      "cell_type": "code",
      "metadata": {
        "id": "qybgPvSpthRh"
      },
      "source": [
        "def lemma_words(doc):\n",
        "  spc_letras = spc(str(doc))\n",
        "  return (token.lemma_ if token.pos_ == 'VERB' else str(token) for token in spc_letras)"
      ],
      "execution_count": 14,
      "outputs": []
    },
    {
      "cell_type": "code",
      "metadata": {
        "id": "N2Ry9okJuk2R"
      },
      "source": [
        "def create_splits(data):\n",
        "    test_validation_size = int(0.30*data.shape[0])\n",
        "    train, test = train_test_split(data, test_size=test_validation_size, random_state=42, stratify=data['type'])\n",
        "    return train, test\n",
        "\n",
        "  \n",
        "train, test = create_splits(data)\n",
        "print('Training samples:  ', train.shape[0])\n",
        "print('Test samples:      ', test.shape[0])\n",
        "\n"
      ],
      "execution_count": null,
      "outputs": []
    },
    {
      "cell_type": "code",
      "metadata": {
        "id": "uzduPUmrtiww"
      },
      "source": [
        "vectorizer = TfidfVectorizer(\n",
        "    stop_words=nltk.corpus.stopwords.words('portuguese'), \n",
        "    analyzer=lemma_words,\n",
        "    min_df=0.0001, \n",
        "    max_df=0.8,\n",
        "    use_idf=True,\n",
        "    smooth_idf=True\n",
        ")"
      ],
      "execution_count": 26,
      "outputs": []
    },
    {
      "cell_type": "code",
      "metadata": {
        "id": "Pe3L1wZUtkEs"
      },
      "source": [
        "X_train = vectorizer.fit_transform(train['clean_text'].values.astype('str'))\n",
        "X_test = vectorizer.transform(test['clean_text'].values.astype('str'))"
      ],
      "execution_count": 27,
      "outputs": []
    },
    {
      "cell_type": "code",
      "metadata": {
        "id": "d5Zp3qq3tlie"
      },
      "source": [
        "labels = {\n",
        "    'Positivo' : 0,\n",
        "    'Negativo' : 1,\n",
        "}\n",
        "\n",
        "# encoding = {\n",
        "#     'tristeza': 0,\n",
        "#     'medo': 1,\n",
        "#     'raiva': 2,\n",
        "#     'desprezo' : 3,\n",
        "# }\n",
        "\n",
        "\n",
        "y_train = train['sentiment'].map(labels).values\n",
        "y_test = test['sentiment'].map(labels).values"
      ],
      "execution_count": 28,
      "outputs": []
    },
    {
      "cell_type": "code",
      "metadata": {
        "id": "VnU5T4G-tqQN"
      },
      "source": [
        "nb = MultinomialNB()\n",
        "nb.fit(X_train, y_train)\n",
        "y_pred = nb.predict(X_test)\n"
      ],
      "execution_count": 29,
      "outputs": []
    },
    {
      "cell_type": "code",
      "metadata": {
        "id": "ipjM8o0itue_"
      },
      "source": [
        "print(classification_report(y_test, y_pred))\n"
      ],
      "execution_count": null,
      "outputs": []
    },
    {
      "cell_type": "code",
      "metadata": {
        "id": "4dPflo_IuQTG"
      },
      "source": [
        "ax = sns.heatmap(confusion_matrix(y_test, y_pred), cmap='Greens_r', annot=True, fmt='d')\n",
        "_ = ax.set(xlabel='Previsto', ylabel='Correto', title='Naive Bayes.')"
      ],
      "execution_count": null,
      "outputs": []
    },
    {
      "cell_type": "code",
      "metadata": {
        "id": "x_7G7khTt8E5"
      },
      "source": [
        "#Calculando a acurácia\n",
        "acc = accuracy_score(y_pred, y_test)\n",
        "precision_recall_fscore = precision_recall_fscore_support(y_pred, y_test, average=\"weighted\")\n",
        "print(f'Acurácia: {acc}')\n",
        "print(f'\\nResult: {precision_recall_fscore}')"
      ],
      "execution_count": null,
      "outputs": []
    }
  ]
}