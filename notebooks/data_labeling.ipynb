{
  "nbformat": 4,
  "nbformat_minor": 0,
  "metadata": {
    "colab": {
      "name": "data_labeling.ipynb",
      "provenance": []
    },
    "kernelspec": {
      "name": "python3",
      "display_name": "Python 3"
    },
    "language_info": {
      "name": "python"
    }
  },
  "cells": [
    {
      "cell_type": "code",
      "metadata": {
        "id": "GzaDS64NjFnD"
      },
      "source": [
        "!pip install emoji emojis openpyxl"
      ],
      "execution_count": null,
      "outputs": []
    },
    {
      "cell_type": "code",
      "metadata": {
        "id": "oj3ZEXW0vgmg"
      },
      "source": [
        "!spacy download pt_core_news_sm"
      ],
      "execution_count": null,
      "outputs": []
    },
    {
      "cell_type": "code",
      "metadata": {
        "id": "VrMzy5dRjKTS"
      },
      "source": [
        "import matplotlib.pyplot as plt\n",
        "import numpy as np\n",
        "import pandas as pd\n",
        "import emojis\n",
        "import re\n",
        "import regex"
      ],
      "execution_count": null,
      "outputs": []
    },
    {
      "cell_type": "code",
      "metadata": {
        "colab": {
          "base_uri": "https://localhost:8080/"
        },
        "id": "Ugm7j7MRjNZK",
        "outputId": "f60757c3-c1d5-43b7-d96d-0d7fa805def5"
      },
      "source": [
        "from google.colab import drive\n",
        "drive.mount('/content/drive')"
      ],
      "execution_count": null,
      "outputs": [
        {
          "output_type": "stream",
          "text": [
            "Drive already mounted at /content/drive; to attempt to forcibly remount, call drive.mount(\"/content/drive\", force_remount=True).\n"
          ],
          "name": "stdout"
        }
      ]
    },
    {
      "cell_type": "code",
      "metadata": {
        "colab": {
          "base_uri": "https://localhost:8080/"
        },
        "id": "cJ3DXh2ovZoh",
        "outputId": "643a19e8-5713-4716-a297-b48d988285fc"
      },
      "source": [
        "import nltk\n",
        "from nltk.corpus import stopwords\n",
        "from nltk.tokenize import word_tokenize\n",
        "\n",
        "nltk.download('stopwords')\n",
        "nltk.download('punkt')"
      ],
      "execution_count": null,
      "outputs": [
        {
          "output_type": "stream",
          "text": [
            "[nltk_data] Downloading package stopwords to /root/nltk_data...\n",
            "[nltk_data]   Package stopwords is already up-to-date!\n",
            "[nltk_data] Downloading package punkt to /root/nltk_data...\n",
            "[nltk_data]   Package punkt is already up-to-date!\n"
          ],
          "name": "stdout"
        },
        {
          "output_type": "execute_result",
          "data": {
            "text/plain": [
              "True"
            ]
          },
          "metadata": {
            "tags": []
          },
          "execution_count": 4
        }
      ]
    },
    {
      "cell_type": "code",
      "metadata": {
        "id": "i0OaFOwNvcYu"
      },
      "source": [
        "import spacy\n",
        "\n",
        "spc = spacy.load(\"pt_core_news_sm\")"
      ],
      "execution_count": null,
      "outputs": []
    },
    {
      "cell_type": "code",
      "metadata": {
        "id": "xYiQg0D9jPIP"
      },
      "source": [
        "default_dir = \"/data/\"\n",
        "raw_data = default_dir + 'raw_data/raw_tweet_collect.csv'\n",
        "emoji_content_data = default_dir + 'raw_data/dataset_with_emojis.csv'\n"
      ],
      "execution_count": null,
      "outputs": []
    },
    {
      "cell_type": "code",
      "metadata": {
        "colab": {
          "base_uri": "https://localhost:8080/"
        },
        "id": "dWrxSmI1jZYp",
        "outputId": "5922863f-b418-4430-e414-3d97063f2f8a"
      },
      "source": [
        "data = pd.read_csv()\n",
        "data.shape"
      ],
      "execution_count": null,
      "outputs": [
        {
          "output_type": "execute_result",
          "data": {
            "text/plain": [
              "(811440, 22)"
            ]
          },
          "metadata": {
            "tags": []
          },
          "execution_count": 7
        }
      ]
    },
    {
      "cell_type": "code",
      "metadata": {
        "colab": {
          "base_uri": "https://localhost:8080/",
          "height": 188
        },
        "id": "tj_81gCOk0ZR",
        "outputId": "a3c45867-3058-49c6-9146-59edfa603025"
      },
      "source": [
        "data.head(1)"
      ],
      "execution_count": null,
      "outputs": [
        {
          "output_type": "execute_result",
          "data": {
            "text/html": [
              "<div>\n",
              "<style scoped>\n",
              "    .dataframe tbody tr th:only-of-type {\n",
              "        vertical-align: middle;\n",
              "    }\n",
              "\n",
              "    .dataframe tbody tr th {\n",
              "        vertical-align: top;\n",
              "    }\n",
              "\n",
              "    .dataframe thead th {\n",
              "        text-align: right;\n",
              "    }\n",
              "</style>\n",
              "<table border=\"1\" class=\"dataframe\">\n",
              "  <thead>\n",
              "    <tr style=\"text-align: right;\">\n",
              "      <th></th>\n",
              "      <th>Unnamed: 0</th>\n",
              "      <th>url</th>\n",
              "      <th>date</th>\n",
              "      <th>content</th>\n",
              "      <th>renderedContent</th>\n",
              "      <th>id</th>\n",
              "      <th>user</th>\n",
              "      <th>outlinks</th>\n",
              "      <th>tcooutlinks</th>\n",
              "      <th>replyCount</th>\n",
              "      <th>retweetCount</th>\n",
              "      <th>likeCount</th>\n",
              "      <th>quoteCount</th>\n",
              "      <th>conversationId</th>\n",
              "      <th>lang</th>\n",
              "      <th>source</th>\n",
              "      <th>sourceUrl</th>\n",
              "      <th>sourceLabel</th>\n",
              "      <th>media</th>\n",
              "      <th>retweetedTweet</th>\n",
              "      <th>quotedTweet</th>\n",
              "      <th>mentionedUsers</th>\n",
              "    </tr>\n",
              "  </thead>\n",
              "  <tbody>\n",
              "    <tr>\n",
              "      <th>0</th>\n",
              "      <td>0</td>\n",
              "      <td>https://twitter.com/Divergente1977/status/1365...</td>\n",
              "      <td>2021-02-27 23:59:50+00:00</td>\n",
              "      <td>DESRESPEITO COM MAIS DE 254 Mil brasileiros mo...</td>\n",
              "      <td>DESRESPEITO COM MAIS DE 254 Mil brasileiros mo...</td>\n",
              "      <td>1365813925560909824</td>\n",
              "      <td>{'username': 'Divergente1977', 'displayname': ...</td>\n",
              "      <td>['https://twitter.com/veramagalhaes/status/136...</td>\n",
              "      <td>['https://t.co/c7a59PBfhr']</td>\n",
              "      <td>0</td>\n",
              "      <td>3</td>\n",
              "      <td>4</td>\n",
              "      <td>0</td>\n",
              "      <td>1365813925560909824</td>\n",
              "      <td>pt</td>\n",
              "      <td>&lt;a href=\"http://twitter.com/download/iphone\" r...</td>\n",
              "      <td>http://twitter.com/download/iphone</td>\n",
              "      <td>Twitter for iPhone</td>\n",
              "      <td>NaN</td>\n",
              "      <td>NaN</td>\n",
              "      <td>{'url': 'https://twitter.com/veramagalhaes/sta...</td>\n",
              "      <td>NaN</td>\n",
              "    </tr>\n",
              "  </tbody>\n",
              "</table>\n",
              "</div>"
            ],
            "text/plain": [
              "   Unnamed: 0  ... mentionedUsers\n",
              "0           0  ...            NaN\n",
              "\n",
              "[1 rows x 22 columns]"
            ]
          },
          "metadata": {
            "tags": []
          },
          "execution_count": 6
        }
      ]
    },
    {
      "cell_type": "markdown",
      "metadata": {
        "id": "TU3e07a0ImKb"
      },
      "source": [
        "## Limpeza dos textos de tweets"
      ]
    },
    {
      "cell_type": "code",
      "metadata": {
        "id": "ysB_V3lzv8IP"
      },
      "source": [
        "def clean_text(texto):\n",
        "    '''\n",
        "    Função para converter todas as letras para sua forma minúscula, selecionar apenas as letras,\n",
        "    remover stopwords e lematizar o texto. \n",
        "    '''\n",
        "\n",
        "    def remove_tweet_ruido(tweets_text):\n",
        "        '''\n",
        "        Tweet cleansing.\n",
        "        '''\n",
        "\n",
        "        clean_text = re.sub(r'RT+', '', tweets_text) \n",
        "        clean_text = re.sub(r'@\\S+', '', clean_text)  \n",
        "        clean_text = re.sub(r'http\\S+', '', clean_text) \n",
        "        clean_text = clean_text.replace(\"\\n\", \" \")\n",
        "\n",
        "        return clean_text\n",
        "    \n",
        "    ### Transforme as letras para minúscula ###\n",
        "    minusculas = texto.lower()\n",
        "\n",
        "    texto = remove_tweet_ruido(minusculas)\n",
        "    \n",
        "    ### Selecione apenas as letras do texto ##\n",
        "    letras = re.findall(r'\\b[A-zÀ-úü]+\\b', texto)\n",
        "    \n",
        "    ### Removendo as stopwords ###\n",
        "    stops = set(stopwords.words('portuguese')) \n",
        "    # Retire as stopwords de letras\n",
        "    palavras_sem_stopwords = [palavra for palavra in letras if palavra not in stops]\n",
        "    # Junte as palavras sem stopwords \n",
        "    palavras_importantes = ' '.join(palavras_sem_stopwords) \n",
        "    \n",
        "    ### Lematização ###\n",
        "    spc_letras = spc(palavras_importantes)\n",
        "    # Lematize o texto \n",
        "    lemmas = [token.lemma_ if token.pos_ == 'VERB' else str(token) for token in spc_letras]\n",
        "    # Junte os lemmas \n",
        "    texto_limpo = \" \".join(lemmas)\n",
        "    \n",
        "    return texto_limpo"
      ],
      "execution_count": null,
      "outputs": []
    },
    {
      "cell_type": "markdown",
      "metadata": {
        "id": "mVAfLkCBkLpR"
      },
      "source": [
        "## Emoji classification - Positivo/Negativo/Neutro\n",
        "\n",
        "Estamos considerando 118 emojis seguindo https://blog.emojipedia.org/emoji-use-in-the-new-normal/#fn1\n"
      ]
    },
    {
      "cell_type": "code",
      "metadata": {
        "id": "v_5nZ2PEjq_g"
      },
      "source": [
        "emojidict = {\n",
        "'😀':\"Positivo\",'😁':\"Positivo\",'😂':\"Positivo\",'😃':\"Positivo\",'😄':\"Positivo\",'😅':\"Positivo\",'😆':\"Positivo\",'😉':\"Positivo\",'😊':\"Positivo\",\n",
        "'😋':\"Positivo\",'😎':\"Positivo\",'😍':\"Positivo\",'😘':\"Positivo\",'😗':\"Positivo\",'😙':\"Positivo\",'😚':\"Positivo\",'☺️':\"Positivo\",'🤗':\"Positivo\",\n",
        "'😇':\"Positivo\",'😏':\"Positivo\",'😌':\"Positivo\",'😛':\"Positivo\",'😜':\"Positivo\",'😝':\"Positivo\",'🤑':\"Positivo\",'😈':\"Positivo\",'😸':\"Positivo\",\n",
        "'😹':\"Positivo\",'😺':\"Positivo\",'😻':\"Positivo\",'😼':\"Positivo\",'😽':\"Positivo\",'🤠':\"Positivo\",'🤣':\"Positivo\",'🤤':\"Positivo\",'🤩':\"Positivo\",\n",
        "'🤪':\"Positivo\",'🥳':\"Positivo\",'🥰':\"Positivo\",'❤️':\"Positivo\",'👍':\"Positivo\",'🤔':\"Negativo\",'😐':\"Negativo\",'😑':\"Negativo\",'😶':\"Negativo\",\n",
        "'🙄':\"Negativo\",'😣':\"Negativo\",'😥':\"Negativo\",'😮':\"Negativo\",'🤐':\"Negativo\",'😯':\"Negativo\",'😪':\"Negativo\",'😫':\"Negativo\",'😴':\"Negativo\",\n",
        "'☹️':\"Negativo\",'🙁':\"Negativo\",'😒':\"Negativo\",'😓':\"Negativo\",'😔':\"Negativo\",'😕':\"Negativo\",'😖':\"Negativo\",'🙃':\"Negativo\",'😷':\"Negativo\",\n",
        "'🤒':\"Negativo\",'🤕':\"Negativo\",'😲':\"Negativo\",'😞':\"Negativo\",'😟':\"Negativo\",'😤':\"Negativo\",'😢':\"Negativo\",'😭':\"Negativo\",'😦':\"Negativo\",\n",
        "'😧':\"Negativo\",'😨':\"Negativo\",'😩':\"Negativo\",'😬':\"Negativo\",'😰':\"Negativo\",'😱':\"Negativo\",'😳':\"Negativo\",'😵':\"Negativo\",'😡':\"Negativo\",\n",
        "'😠':\"Negativo\",'👿':\"Negativo\",'👹':\"Negativo\",'💀':\"Negativo\",'☠️':\"Negativo\",'😾':\"Negativo\",'😿':\"Negativo\",'🙀':\"Negativo\",'🤢':\"Negativo\",\n",
        "'🤥':\"Negativo\",'🤧':\"Negativo\",'🤨':\"Negativo\",'🤬':\"Negativo\",'🤮':\"Negativo\",'🦠':\"Negativo\",'🤓':\"Neutro\",'🗣️':\"Neutro\",'👤':\"Neutro\",\n",
        "'👥':\"Neutro\",'👺':\"Neutro\",'👻':\"Neutro\",'👽':\"Neutro\",'👾':\"Neutro\",'🤖':\"Neutro\",'💩':\"Neutro\",'🤡':\"Neutro\",'🤫':\"Neutro\",\n",
        "'🤭':\"Neutro\",'🤯':\"Neutro\",'🧐':\"Neutro\",'🥴':\"Neutro\",'🥵':\"Neutro\",'🥶':\"Neutro\",'🥺':\"Neutro\",'🥱':\"Neutro\",'🤔':\"Neutro\",\n",
        "'🤭':\"Neutro\",'🙏':\"Neutro\"\n",
        "}"
      ],
      "execution_count": null,
      "outputs": []
    },
    {
      "cell_type": "code",
      "metadata": {
        "id": "naizq4R7ju2L"
      },
      "source": [
        "def label_by_emoji(text):\n",
        "  curr_emojis = [c for c in text if c in emojidict]\n",
        "  if not curr_emojis:\n",
        "    return None\n",
        "  max_emoji = max(set(curr_emojis), key = curr_emojis.count)\n",
        "  return emojidict[max_emoji]\n",
        "  \n"
      ],
      "execution_count": null,
      "outputs": []
    },
    {
      "cell_type": "code",
      "metadata": {
        "id": "KQ1sEk_NkeyV"
      },
      "source": [
        "select_df = data[['date','renderedContent']].rename(columns={'renderedContent':'tweet_text'})\n",
        "select_df"
      ],
      "execution_count": null,
      "outputs": []
    },
    {
      "cell_type": "code",
      "metadata": {
        "id": "-1Y8vow0ld-5"
      },
      "source": [
        "select_df['sentiment'] = select_df['tweet_text'].apply(label_by_emoji)"
      ],
      "execution_count": null,
      "outputs": []
    },
    {
      "cell_type": "code",
      "metadata": {
        "colab": {
          "base_uri": "https://localhost:8080/"
        },
        "id": "rqbFgoQ6lvil",
        "outputId": "48ceaff5-2182-42c8-c0e5-47ac9215a7a1"
      },
      "source": [
        "select_df.shape"
      ],
      "execution_count": null,
      "outputs": [
        {
          "output_type": "execute_result",
          "data": {
            "text/plain": [
              "(811440, 3)"
            ]
          },
          "metadata": {
            "tags": []
          },
          "execution_count": 14
        }
      ]
    },
    {
      "cell_type": "code",
      "metadata": {
        "id": "1QnrvNgRuc2L"
      },
      "source": [
        "data_unlabelled = select_df.loc[select_df['sentiment'].isnull(), ['date','tweet_text']][:600000]\n",
        "data_unlabelled['clean_text'] = data_unlabelled['tweet_text'].apply(clean_text)\n",
        "data_unlabelled.to_csv(default_dir+'raw_data/dataset_unlabelled.csv', index=False)\n",
        "print(data_unlabelled.shape)\n",
        "data_unlabelled.head()"
      ],
      "execution_count": null,
      "outputs": []
    },
    {
      "cell_type": "code",
      "metadata": {
        "id": "eB_AkfW1rtFv",
        "colab": {
          "base_uri": "https://localhost:8080/"
        },
        "outputId": "3ea01f61-4693-437e-ee24-efce74d78a05"
      },
      "source": [
        "data_labeled = select_df.loc[select_df['sentiment'].notnull(), ['date','tweet_text', 'sentiment']]\n",
        "data_labeled['clean_text'] = data_labeled['tweet_text'].apply(clean_text)\n",
        "data_labeled.shape"
      ],
      "execution_count": null,
      "outputs": [
        {
          "output_type": "execute_result",
          "data": {
            "text/plain": [
              "(81998, 4)"
            ]
          },
          "metadata": {
            "tags": []
          },
          "execution_count": 17
        }
      ]
    },
    {
      "cell_type": "code",
      "metadata": {
        "id": "Zil9_zzGG7kV"
      },
      "source": [
        "## salvar dataset raw dos selecionados com emoji\n",
        "# data_labeled_raw = data_labeled[['date','tweet_text', 'clean_text']]\n",
        "# data_labeled_raw.head()\n",
        "# data_labeled_raw.to_csv(default_dir+'raw_data/dataset_with_emojis.csv', index=False)"
      ],
      "execution_count": null,
      "outputs": []
    },
    {
      "cell_type": "code",
      "metadata": {
        "id": "C38LUAmhmEeC"
      },
      "source": [
        "emotion_dispersao = data_labeled['sentiment'].value_counts()\n",
        "plot = emotion_dispersao.plot.pie(y='mass', figsize=(10, 15))"
      ],
      "execution_count": null,
      "outputs": []
    },
    {
      "cell_type": "code",
      "metadata": {
        "colab": {
          "base_uri": "https://localhost:8080/",
          "height": 206
        },
        "id": "PseEiu-eqaup",
        "outputId": "a864cb3b-716e-4bc6-e0c8-c33ff4c3f640"
      },
      "source": [
        "data_labeled.head()"
      ],
      "execution_count": null,
      "outputs": [
        {
          "output_type": "execute_result",
          "data": {
            "text/html": [
              "<div>\n",
              "<style scoped>\n",
              "    .dataframe tbody tr th:only-of-type {\n",
              "        vertical-align: middle;\n",
              "    }\n",
              "\n",
              "    .dataframe tbody tr th {\n",
              "        vertical-align: top;\n",
              "    }\n",
              "\n",
              "    .dataframe thead th {\n",
              "        text-align: right;\n",
              "    }\n",
              "</style>\n",
              "<table border=\"1\" class=\"dataframe\">\n",
              "  <thead>\n",
              "    <tr style=\"text-align: right;\">\n",
              "      <th></th>\n",
              "      <th>date</th>\n",
              "      <th>tweet_text</th>\n",
              "      <th>sentiment</th>\n",
              "      <th>clean_text</th>\n",
              "    </tr>\n",
              "  </thead>\n",
              "  <tbody>\n",
              "    <tr>\n",
              "      <th>13</th>\n",
              "      <td>2021-02-27 23:43:12+00:00</td>\n",
              "      <td>Jornal falando das medidas restritivas em uma ...</td>\n",
              "      <td>Neutro</td>\n",
              "      <td>jornal falar medidas restritivas capital acade...</td>\n",
              "    </tr>\n",
              "    <tr>\n",
              "      <th>42</th>\n",
              "      <td>2021-02-27 22:22:07+00:00</td>\n",
              "      <td>Os nossos vizinhos com medidas restritivas:\\n\\...</td>\n",
              "      <td>Negativo</td>\n",
              "      <td>vizinhos medidas restritivas flávio dino</td>\n",
              "    </tr>\n",
              "    <tr>\n",
              "      <th>43</th>\n",
              "      <td>2021-02-27 22:21:02+00:00</td>\n",
              "      <td>@Su_eline Enquanto as pessoas não acordarem pa...</td>\n",
              "      <td>Negativo</td>\n",
              "      <td>enquanto pessoas acordar gravidade situação ac...</td>\n",
              "    </tr>\n",
              "    <tr>\n",
              "      <th>49</th>\n",
              "      <td>2021-02-27 22:04:55+00:00</td>\n",
              "      <td>2de2\\nE demorou muito para adotar medidas REST...</td>\n",
              "      <td>Negativo</td>\n",
              "      <td>demorar adotar medidas restritivas severas fic...</td>\n",
              "    </tr>\n",
              "    <tr>\n",
              "      <th>54</th>\n",
              "      <td>2021-02-27 22:00:52+00:00</td>\n",
              "      <td>@JanainaDoBrasil 🤣🤣🤣😂😅\\nQue lógica bisonha!\\n\"...</td>\n",
              "      <td>Positivo</td>\n",
              "      <td>lógica bisonha vamos esperar todas vagas ser o...</td>\n",
              "    </tr>\n",
              "  </tbody>\n",
              "</table>\n",
              "</div>"
            ],
            "text/plain": [
              "                         date  ...                                         clean_text\n",
              "13  2021-02-27 23:43:12+00:00  ...  jornal falar medidas restritivas capital acade...\n",
              "42  2021-02-27 22:22:07+00:00  ...           vizinhos medidas restritivas flávio dino\n",
              "43  2021-02-27 22:21:02+00:00  ...  enquanto pessoas acordar gravidade situação ac...\n",
              "49  2021-02-27 22:04:55+00:00  ...  demorar adotar medidas restritivas severas fic...\n",
              "54  2021-02-27 22:00:52+00:00  ...  lógica bisonha vamos esperar todas vagas ser o...\n",
              "\n",
              "[5 rows x 4 columns]"
            ]
          },
          "metadata": {
            "tags": []
          },
          "execution_count": 29
        }
      ]
    },
    {
      "cell_type": "code",
      "metadata": {
        "id": "iIJbrP1qmUoE"
      },
      "source": [
        "data_labeled.to_csv(default_dir+'labeled_data/dataset_label_pos_neg_neutro.csv', index=False)"
      ],
      "execution_count": null,
      "outputs": []
    },
    {
      "cell_type": "code",
      "metadata": {
        "id": "Lxm4o0212eO3"
      },
      "source": [
        "data_pos_neg = data_labeled.loc[data_labeled['sentiment'] !='Neutro']\n",
        "data_pos_neg.to_csv(default_dir+'labeled_data/dataset_label_pos_neg.csv', index=False)\n"
      ],
      "execution_count": null,
      "outputs": []
    }
  ]
}