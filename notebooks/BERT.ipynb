{
  "nbformat": 4,
  "nbformat_minor": 0,
  "metadata": {
    "accelerator": "GPU",
    "colab": {
      "name": "BERT",
      "provenance": [],
      "collapsed_sections": [
        "SKQ4bH7qMGrA"
      ],
      "machine_shape": "hm"
    },
    "kernelspec": {
      "display_name": "Python 3",
      "name": "python3"
    }
  },
  "cells": [
    {
      "cell_type": "code",
      "metadata": {
        "id": "aXHq1YoamDtv"
      },
      "source": [
        "!pip3 install ktrain"
      ],
      "execution_count": null,
      "outputs": []
    },
    {
      "cell_type": "code",
      "metadata": {
        "id": "RrD9ft9dmR6h"
      },
      "source": [
        "import pandas as pd\n",
        "import numpy as np\n",
        "\n",
        "import ktrain\n",
        "from ktrain import text"
      ],
      "execution_count": null,
      "outputs": []
    },
    {
      "cell_type": "code",
      "metadata": {
        "id": "VHuU1sDGlbu0"
      },
      "source": [
        "from google.colab import drive\n",
        "drive.mount('/content/drive')"
      ],
      "execution_count": null,
      "outputs": []
    },
    {
      "cell_type": "code",
      "metadata": {
        "id": "I6Oq_W7vl2ps"
      },
      "source": [
        "default_dir = \"/data/\"\n",
        "data_tcc_pos_neg = default_dir+'labeled_data/dataset_label_pos_neg.csv'\n",
        "data_neg_emotions = default_dir+'labeled_data/dataset_neg_emotions.csv'\n"
      ],
      "execution_count": null,
      "outputs": []
    },
    {
      "cell_type": "code",
      "metadata": {
        "id": "8TJSn0ckl90W"
      },
      "source": [
        "data_base = pd.read_csv(data_tcc_pos_neg)\n",
        "data['type'] = 'with_theme-' + data['emotion']\n",
        "data.shape"
      ],
      "execution_count": null,
      "outputs": []
    },
    {
      "cell_type": "code",
      "metadata": {
        "id": "TBJ9tumWS6qg"
      },
      "source": [
        "plot = data['emotion'].value_counts().plot.pie(y='mass', figsize=(10, 15))"
      ],
      "execution_count": null,
      "outputs": []
    },
    {
      "cell_type": "code",
      "metadata": {
        "id": "7bvBv5ovmUNa"
      },
      "source": [
        "from sklearn.model_selection import train_test_split\n",
        "\n",
        "def create_splits(data):\n",
        "    test_validation_size = int(0.30*data.shape[0])\n",
        "    train, test = train_test_split(data, test_size=test_validation_size, random_state=42, stratify=data['type'])\n",
        "    return train, test\n",
        "\n",
        "  \n",
        "train, test = create_splits(data)\n",
        "print('Training samples:  ', train.shape[0])\n",
        "print('Test samples:      ', test.shape[0])\n"
      ],
      "execution_count": null,
      "outputs": []
    },
    {
      "cell_type": "code",
      "metadata": {
        "id": "8XYe3qxZmbKD"
      },
      "source": [
        "X_train = train.cleaned_text.tolist()\n",
        "X_test = test.cleaned_text.tolist()\n",
        "\n",
        "y_train = train.emotion.tolist()\n",
        "y_test = test.emotion.tolist()"
      ],
      "execution_count": null,
      "outputs": []
    },
    {
      "cell_type": "code",
      "metadata": {
        "id": "YT7wI0nqmddp"
      },
      "source": [
        "# encoding = {\n",
        "#     'Positivo' : 0,\n",
        "#     'Negativo' : 1,\n",
        "# }\n",
        "\n",
        "encoding = {\n",
        "    'tristeza': 0,\n",
        "    'medo': 1,\n",
        "    'raiva': 2,\n",
        "    'desprezo' : 3,\n",
        "}\n",
        "\n",
        "# Integer values for each class\n",
        "y_train = [encoding[x] for x in y_train]\n",
        "y_test = [encoding[x] for x in y_test]"
      ],
      "execution_count": null,
      "outputs": []
    },
    {
      "cell_type": "code",
      "metadata": {
        "id": "CmYoAaI_mfNM"
      },
      "source": [
        "class_names = list(encoding.keys())"
      ],
      "execution_count": null,
      "outputs": []
    },
    {
      "cell_type": "code",
      "metadata": {
        "colab": {
          "base_uri": "https://localhost:8080/",
          "height": 156
        },
        "id": "MK8YiL2Cmkoe",
        "outputId": "281e90c8-1692-4bb7-c126-8457707db480"
      },
      "source": [
        "(x_train,  y_train), (x_test, y_test), preproc = text.texts_from_array(x_train=X_train, y_train=y_train,\n",
        "                                                                       x_test=X_test, y_test=y_test,\n",
        "                                                                       class_names=class_names,\n",
        "                                                                       preprocess_mode='bert',\n",
        "                                                                       maxlen=350, \n",
        "                                                                       max_features=350000)"
      ],
      "execution_count": null,
      "outputs": [
        {
          "output_type": "stream",
          "text": [
            "preprocessing train...\n",
            "language: pt\n"
          ],
          "name": "stdout"
        },
        {
          "output_type": "display_data",
          "data": {
            "text/html": [
              "done."
            ],
            "text/plain": [
              "<IPython.core.display.HTML object>"
            ]
          },
          "metadata": {
            "tags": []
          }
        },
        {
          "output_type": "stream",
          "text": [
            "Is Multi-Label? False\n",
            "preprocessing test...\n",
            "language: pt\n"
          ],
          "name": "stdout"
        },
        {
          "output_type": "display_data",
          "data": {
            "text/html": [
              "done."
            ],
            "text/plain": [
              "<IPython.core.display.HTML object>"
            ]
          },
          "metadata": {
            "tags": []
          }
        },
        {
          "output_type": "stream",
          "text": [
            "task: text classification\n"
          ],
          "name": "stdout"
        }
      ]
    },
    {
      "cell_type": "code",
      "metadata": {
        "colab": {
          "base_uri": "https://localhost:8080/"
        },
        "id": "wO_gCIxGnlO6",
        "outputId": "cecb199d-6fa2-4a5a-8d9d-02672a523215"
      },
      "source": [
        "model = text.text_classifier('bert', train_data=(x_train, y_train), preproc=preproc)\n"
      ],
      "execution_count": null,
      "outputs": [
        {
          "output_type": "stream",
          "text": [
            "Is Multi-Label? False\n",
            "maxlen is 350\n",
            "done.\n"
          ],
          "name": "stdout"
        }
      ]
    },
    {
      "cell_type": "code",
      "metadata": {
        "colab": {
          "base_uri": "https://localhost:8080/"
        },
        "id": "klyHhr5Znl34",
        "outputId": "fd13a7ef-2a06-4f10-fe86-5eb82409fc5b"
      },
      "source": [
        "learner = ktrain.get_learner(model, train_data=(x_train, y_train), \n",
        "                             val_data=(x_test, y_test),\n",
        "                             batch_size=6)\n",
        "learner.fit_onecycle(2e-5, 3)\n"
      ],
      "execution_count": null,
      "outputs": [
        {
          "output_type": "stream",
          "text": [
            "\n",
            "\n",
            "begin training using onecycle policy with max lr of 2e-05...\n",
            "Epoch 1/3\n",
            "7949/7949 [==============================] - 5548s 695ms/step - loss: 0.6081 - accuracy: 0.7140 - val_loss: 0.5967 - val_accuracy: 0.7299\n",
            "Epoch 2/3\n",
            "7949/7949 [==============================] - 5422s 682ms/step - loss: 0.5589 - accuracy: 0.7417 - val_loss: 0.5517 - val_accuracy: 0.7520\n",
            "Epoch 3/3\n",
            "7949/7949 [==============================] - 5426s 683ms/step - loss: 0.5121 - accuracy: 0.7725 - val_loss: 0.5318 - val_accuracy: 0.7613\n"
          ],
          "name": "stdout"
        },
        {
          "output_type": "execute_result",
          "data": {
            "text/plain": [
              "<tensorflow.python.keras.callbacks.History at 0x7f7085e7c510>"
            ]
          },
          "metadata": {
            "tags": []
          },
          "execution_count": 30
        }
      ]
    },
    {
      "cell_type": "code",
      "metadata": {
        "colab": {
          "base_uri": "https://localhost:8080/"
        },
        "id": "1Mo1NY8qnq3P",
        "outputId": "40fe6614-02e0-4257-ee4f-04b3b9053b4c"
      },
      "source": [
        "learner.validate(val_data=(x_test, y_test), class_names=class_names)\n"
      ],
      "execution_count": null,
      "outputs": [
        {
          "output_type": "stream",
          "text": [
            "              precision    recall  f1-score   support\n",
            "\n",
            "    tristeza       0.45      0.58      0.51      2114\n",
            "        medo       0.93      0.78      0.85      3480\n",
            "       raiva       0.83      0.80      0.81      4948\n",
            "    desprezo       0.77      0.79      0.78      5354\n",
            "\n",
            "    accuracy                           0.76     15896\n",
            "   macro avg       0.74      0.74      0.74     15896\n",
            "weighted avg       0.78      0.76      0.77     15896\n",
            "\n"
          ],
          "name": "stdout"
        },
        {
          "output_type": "execute_result",
          "data": {
            "text/plain": [
              "array([[1229,   62,  318,  505],\n",
              "       [ 353, 2719,  141,  267],\n",
              "       [ 458,   58, 3949,  483],\n",
              "       [ 684,   88,  377, 4205]])"
            ]
          },
          "metadata": {
            "tags": []
          },
          "execution_count": 31
        }
      ]
    },
    {
      "cell_type": "code",
      "metadata": {
        "id": "mpwqblo8nsOg"
      },
      "source": [
        "predictor = ktrain.get_predictor(learner.model, preproc)\n",
        "predictor.get_classes()"
      ],
      "execution_count": null,
      "outputs": []
    }
  ]
}