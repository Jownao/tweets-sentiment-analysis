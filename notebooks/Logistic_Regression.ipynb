{
  "nbformat": 4,
  "nbformat_minor": 0,
  "metadata": {
    "colab": {
      "name": "Logistic Regression.ipynb",
      "provenance": []
    },
    "kernelspec": {
      "display_name": "Python 3",
      "name": "python3"
    },
    "language_info": {
      "name": "python"
    }
  },
  "cells": [
    {
      "cell_type": "code",
      "metadata": {
        "id": "lKnYGzeRte1u"
      },
      "source": [
        "import math\n",
        "import os\n",
        "import pickle\n",
        "import re\n",
        "\n",
        "import matplotlib.pyplot as plt\n",
        "import nltk\n",
        "import numpy as np\n",
        "import pandas as pd\n",
        "import seaborn as sns\n",
        "from sklearn import metrics\n",
        "from sklearn.feature_extraction.text import TfidfVectorizer\n",
        "from sklearn.metrics import (accuracy_score, classification_report,\n",
        "                             confusion_matrix, precision_recall_fscore_support)\n",
        "from sklearn.model_selection import train_test_split\n",
        "from sklearn.linear_model import LogisticRegression\n",
        "from sklearn.metrics import classification_report"
      ],
      "execution_count": null,
      "outputs": []
    },
    {
      "cell_type": "code",
      "metadata": {
        "colab": {
          "base_uri": "https://localhost:8080/"
        },
        "id": "kpXzBgu0wvHd",
        "outputId": "0e9af57c-ba85-4c68-879e-047a50433726"
      },
      "source": [
        "import nltk\n",
        "nltk.download('stopwords')\n",
        "  "
      ],
      "execution_count": null,
      "outputs": [
        {
          "output_type": "stream",
          "text": [
            "[nltk_data] Downloading package stopwords to /root/nltk_data...\n",
            "[nltk_data]   Package stopwords is already up-to-date!\n"
          ],
          "name": "stdout"
        },
        {
          "output_type": "execute_result",
          "data": {
            "text/plain": [
              "True"
            ]
          },
          "metadata": {
            "tags": []
          },
          "execution_count": 72
        }
      ]
    },
    {
      "cell_type": "code",
      "metadata": {
        "colab": {
          "base_uri": "https://localhost:8080/"
        },
        "id": "GKwUikp-vWxv",
        "outputId": "71b17d70-f050-48e1-e27b-6143cecce4b0"
      },
      "source": [
        "from google.colab import drive\n",
        "drive.mount('/content/drive')"
      ],
      "execution_count": null,
      "outputs": [
        {
          "output_type": "stream",
          "text": [
            "Drive already mounted at /content/drive; to attempt to forcibly remount, call drive.mount(\"/content/drive\", force_remount=True).\n"
          ],
          "name": "stdout"
        }
      ]
    },
    {
      "cell_type": "code",
      "metadata": {
        "id": "D8N-MPjfvium"
      },
      "source": [
        "default_dir = \"/data/\"\n",
        "data_tcc_pos_neg = default_dir+'labeled_data/dataset_label_pos_neg.csv'\n",
        "data_neg_emotions = default_dir+'labeled_data/dataset_neg_emotions.csv'\n"
      ],
      "execution_count": null,
      "outputs": []
    },
    {
      "cell_type": "code",
      "metadata": {
        "colab": {
          "base_uri": "https://localhost:8080/",
          "height": 293
        },
        "id": "JrTMGudTvmLX",
        "outputId": "7ab082b9-0d91-462a-c393-e9297f77969e"
      },
      "source": [
        "data = pd.read_csv(data_neg_emotions)\n",
        "data['type'] = 'with_theme-' + data['sentiment']\n",
        "data.head()"
      ],
      "execution_count": null,
      "outputs": [
        {
          "output_type": "execute_result",
          "data": {
            "text/html": [
              "<div>\n",
              "<style scoped>\n",
              "    .dataframe tbody tr th:only-of-type {\n",
              "        vertical-align: middle;\n",
              "    }\n",
              "\n",
              "    .dataframe tbody tr th {\n",
              "        vertical-align: top;\n",
              "    }\n",
              "\n",
              "    .dataframe thead th {\n",
              "        text-align: right;\n",
              "    }\n",
              "</style>\n",
              "<table border=\"1\" class=\"dataframe\">\n",
              "  <thead>\n",
              "    <tr style=\"text-align: right;\">\n",
              "      <th></th>\n",
              "      <th>renderedContent</th>\n",
              "      <th>date</th>\n",
              "      <th>sentiment</th>\n",
              "      <th>cleaned_text</th>\n",
              "      <th>type</th>\n",
              "    </tr>\n",
              "  </thead>\n",
              "  <tbody>\n",
              "    <tr>\n",
              "      <th>0</th>\n",
              "      <td>@CorreiosBR Já informei faz tempo.\\n#raiva #ch...</td>\n",
              "      <td>2021-06-18 12:35:41+00:00</td>\n",
              "      <td>raiva</td>\n",
              "      <td>informei fazer tempo raiva chatear</td>\n",
              "      <td>with_theme-raiva</td>\n",
              "    </tr>\n",
              "    <tr>\n",
              "      <th>1</th>\n",
              "      <td>@MidiaNINJA @samanthaschmutz E desse modo que ...</td>\n",
              "      <td>2021-06-18 01:14:37+00:00</td>\n",
              "      <td>raiva</td>\n",
              "      <td>d esse modo muitas vezes sinto visualizar rede...</td>\n",
              "      <td>with_theme-raiva</td>\n",
              "    </tr>\n",
              "    <tr>\n",
              "      <th>2</th>\n",
              "      <td>a m**** deve achar demorado entrar em contato ...</td>\n",
              "      <td>2021-06-16 21:19:59+00:00</td>\n",
              "      <td>raiva</td>\n",
              "      <td>m deve achar demorar entrar contato outros dep...</td>\n",
              "      <td>with_theme-raiva</td>\n",
              "    </tr>\n",
              "    <tr>\n",
              "      <th>3</th>\n",
              "      <td>Em uma propriedade, 4 animais morreram com o v...</td>\n",
              "      <td>2021-06-16 20:40:55+00:00</td>\n",
              "      <td>raiva</td>\n",
              "      <td>propriedade animais morrer vírus raivar foco d...</td>\n",
              "      <td>with_theme-raiva</td>\n",
              "    </tr>\n",
              "    <tr>\n",
              "      <th>4</th>\n",
              "      <td>Estudo da FGV expõe um país infeliz santosbanc...</td>\n",
              "      <td>2021-06-16 20:25:39+00:00</td>\n",
              "      <td>raiva</td>\n",
              "      <td>estudo fgv expor país infeliz santosbancarios ...</td>\n",
              "      <td>with_theme-raiva</td>\n",
              "    </tr>\n",
              "  </tbody>\n",
              "</table>\n",
              "</div>"
            ],
            "text/plain": [
              "                                     renderedContent  ...              type\n",
              "0  @CorreiosBR Já informei faz tempo.\\n#raiva #ch...  ...  with_theme-raiva\n",
              "1  @MidiaNINJA @samanthaschmutz E desse modo que ...  ...  with_theme-raiva\n",
              "2  a m**** deve achar demorado entrar em contato ...  ...  with_theme-raiva\n",
              "3  Em uma propriedade, 4 animais morreram com o v...  ...  with_theme-raiva\n",
              "4  Estudo da FGV expõe um país infeliz santosbanc...  ...  with_theme-raiva\n",
              "\n",
              "[5 rows x 5 columns]"
            ]
          },
          "metadata": {
            "tags": []
          },
          "execution_count": 89
        }
      ]
    },
    {
      "cell_type": "code",
      "metadata": {
        "id": "3kmoaoZctfMs"
      },
      "source": [
        "stemmer = nltk.stem.snowball.PortugueseStemmer()\n",
        "analyzer = TfidfVectorizer().build_analyzer()"
      ],
      "execution_count": null,
      "outputs": []
    },
    {
      "cell_type": "code",
      "metadata": {
        "id": "qybgPvSpthRh"
      },
      "source": [
        "def stemmed_words(doc):\n",
        "    return (stemmer.stem(w) for w in analyzer(doc) if w[0]!='@')"
      ],
      "execution_count": null,
      "outputs": []
    },
    {
      "cell_type": "code",
      "metadata": {
        "colab": {
          "base_uri": "https://localhost:8080/"
        },
        "id": "N2Ry9okJuk2R",
        "outputId": "31a76542-b7c1-4e8e-9904-296134bb1782"
      },
      "source": [
        "def create_splits(data):\n",
        "    test_validation_size = int(0.30*data.shape[0])\n",
        "    train, test = train_test_split(data, test_size=test_validation_size, random_state=42, stratify=data['type'])\n",
        "    return train, test\n",
        "\n",
        "  \n",
        "train, test = create_splits(data)\n",
        "print('Training samples:  ', train.shape[0])\n",
        "print('Test samples:      ', test.shape[0])\n",
        "\n"
      ],
      "execution_count": null,
      "outputs": [
        {
          "output_type": "stream",
          "text": [
            "Training samples:   54065\n",
            "Test samples:       23170\n"
          ],
          "name": "stdout"
        }
      ]
    },
    {
      "cell_type": "code",
      "metadata": {
        "id": "uzduPUmrtiww"
      },
      "source": [
        "vectorizer = TfidfVectorizer(\n",
        "    stop_words=nltk.corpus.stopwords.words('portuguese'), \n",
        "    analyzer=stemmed_words,\n",
        "    min_df=0.0001, \n",
        "    max_features=100000, \n",
        "    max_df=0.8)"
      ],
      "execution_count": null,
      "outputs": []
    },
    {
      "cell_type": "code",
      "metadata": {
        "id": "Pe3L1wZUtkEs"
      },
      "source": [
        "X_train = vectorizer.fit_transform(train['cleaned_text'].values.astype('U'))\n",
        "X_test = vectorizer.transform(test['cleaned_text'].values.astype('U'))"
      ],
      "execution_count": null,
      "outputs": []
    },
    {
      "cell_type": "code",
      "metadata": {
        "id": "d5Zp3qq3tlie"
      },
      "source": [
        "# labels = {'Negativo': 1, 'Positivo': 0}\n",
        "# labels = {\n",
        "#     'tristeza': 0,\n",
        "#     'medo': 1,\n",
        "#     'raiva': 2,\n",
        "#     'desprezo' : 3,\n",
        "# }\n",
        "\n",
        "y_train = train['sentiment'].map(labels).values\n",
        "y_test = test['sentiment'].map(labels).values"
      ],
      "execution_count": null,
      "outputs": []
    },
    {
      "cell_type": "code",
      "metadata": {
        "colab": {
          "base_uri": "https://localhost:8080/"
        },
        "id": "VnU5T4G-tqQN",
        "outputId": "28780916-ff59-4489-dd5d-b2fd59c78cae"
      },
      "source": [
        "lr = LogisticRegression(random_state=0, class_weight='balanced', max_iter=500, verbose=True)\n",
        "lr.fit(X_train, y_train)\n"
      ],
      "execution_count": null,
      "outputs": [
        {
          "output_type": "stream",
          "text": [
            "[Parallel(n_jobs=1)]: Using backend SequentialBackend with 1 concurrent workers.\n",
            "[Parallel(n_jobs=1)]: Done   1 out of   1 | elapsed:   13.8s finished\n"
          ],
          "name": "stderr"
        },
        {
          "output_type": "execute_result",
          "data": {
            "text/plain": [
              "LogisticRegression(C=1.0, class_weight='balanced', dual=False,\n",
              "                   fit_intercept=True, intercept_scaling=1, l1_ratio=None,\n",
              "                   max_iter=500, multi_class='auto', n_jobs=None, penalty='l2',\n",
              "                   random_state=0, solver='lbfgs', tol=0.0001, verbose=True,\n",
              "                   warm_start=False)"
            ]
          },
          "metadata": {
            "tags": []
          },
          "execution_count": 101
        }
      ]
    },
    {
      "cell_type": "code",
      "metadata": {
        "id": "mD3wvhEc08wt"
      },
      "source": [
        "prediction_logistic = lr.predict(X_test)"
      ],
      "execution_count": null,
      "outputs": []
    },
    {
      "cell_type": "code",
      "metadata": {
        "id": "ipjM8o0itue_"
      },
      "source": [
        "print(classification_report(y_test, prediction_logistic))\n"
      ],
      "execution_count": null,
      "outputs": []
    },
    {
      "cell_type": "code",
      "metadata": {
        "id": "4dPflo_IuQTG"
      },
      "source": [
        "ax = sns.heatmap(confusion_matrix(y_test, prediction_logistic), cmap='Greens_r', annot=True, fmt='d')\n",
        "_ = ax.set(xlabel='Previsto', ylabel='Correto', title='Regressão Logística.')"
      ],
      "execution_count": null,
      "outputs": []
    },
    {
      "cell_type": "code",
      "metadata": {
        "id": "x_7G7khTt8E5"
      },
      "source": [
        "#Calculando a acurácia\n",
        "acc = accuracy_score(prediction_logistic, y_test)\n",
        "precision_recall_fscore = precision_recall_fscore_support(prediction_logistic, y_test, average='weighted')\n",
        "print(f'acc: {acc}')\n",
        "print(f'\\nprf: {precision_recall_fscore}')"
      ],
      "execution_count": null,
      "outputs": []
    }
  ]
}